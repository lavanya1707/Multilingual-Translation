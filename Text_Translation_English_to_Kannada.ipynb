{
 "cells": [
  {
   "cell_type": "code",
   "execution_count": 45,
   "id": "a4417e23",
   "metadata": {},
   "outputs": [],
   "source": [
    "#pip install googletrans==4.0.0-rc1"
   ]
  },
  {
   "cell_type": "code",
   "execution_count": 46,
   "id": "cc6c58cb",
   "metadata": {},
   "outputs": [],
   "source": [
    "from googletrans import Translator"
   ]
  },
  {
   "cell_type": "code",
   "execution_count": 47,
   "id": "cd317be5",
   "metadata": {},
   "outputs": [],
   "source": [
    "def translate_to_kannada(english_sentence):\n",
    "    translator = Translator()\n",
    "    translated = translator.translate(english_sentence, src='en', dest='kn')\n",
    "    return translated.text"
   ]
  },
  {
   "cell_type": "code",
   "execution_count": 48,
   "id": "865f0cb5",
   "metadata": {},
   "outputs": [
    {
     "name": "stdout",
     "output_type": "stream",
     "text": [
      "Enter an English sentence: how are you\n",
      "Kannada Translation: ನೀವು ಹೇಗಿದ್ದೀರಿ\n"
     ]
    }
   ],
   "source": [
    "english_sentence = input(\"Enter an English sentence: \")\n",
    "kannada_translation = translate_to_kannada(english_sentence)\n",
    "print(\"Kannada Translation:\", kannada_translation)"
   ]
  },
  {
   "cell_type": "code",
   "execution_count": null,
   "id": "62a6077a",
   "metadata": {},
   "outputs": [],
   "source": []
  },
  {
   "cell_type": "code",
   "execution_count": null,
   "id": "6c98d877",
   "metadata": {},
   "outputs": [],
   "source": []
  },
  {
   "cell_type": "code",
   "execution_count": null,
   "id": "247d951c",
   "metadata": {},
   "outputs": [],
   "source": []
  },
  {
   "cell_type": "code",
   "execution_count": null,
   "id": "cb01e5c7",
   "metadata": {},
   "outputs": [],
   "source": []
  }
 ],
 "metadata": {
  "kernelspec": {
   "display_name": "nlp_env",
   "language": "python",
   "name": "nlp_env"
  },
  "language_info": {
   "codemirror_mode": {
    "name": "ipython",
    "version": 3
   },
   "file_extension": ".py",
   "mimetype": "text/x-python",
   "name": "python",
   "nbconvert_exporter": "python",
   "pygments_lexer": "ipython3",
   "version": "3.11.4"
  }
 },
 "nbformat": 4,
 "nbformat_minor": 5
}
