{
 "cells": [
  {
   "cell_type": "code",
   "execution_count": 8,
   "id": "737715b9",
   "metadata": {},
   "outputs": [],
   "source": [
    "from translate import Translator"
   ]
  },
  {
   "cell_type": "code",
   "execution_count": 9,
   "id": "8b0475e8",
   "metadata": {},
   "outputs": [],
   "source": [
    "languages = ['fr', 'it', 'es', 'ru', 'de','kn', 'hi', 'te','bn', 'ml', 'ta']"
   ]
  },
  {
   "cell_type": "code",
   "execution_count": 10,
   "id": "eb3a59ea",
   "metadata": {},
   "outputs": [
    {
     "name": "stdout",
     "output_type": "stream",
     "text": [
      "Enter the text to translate: wt doing\n"
     ]
    }
   ],
   "source": [
    "text = input(\"Enter the text to translate: \")"
   ]
  },
  {
   "cell_type": "code",
   "execution_count": 11,
   "id": "ffbc40ac",
   "metadata": {},
   "outputs": [
    {
     "name": "stdout",
     "output_type": "stream",
     "text": [
      "fr: wt doing\n",
      "it: wt doing\n",
      "es: wt haciendo\n",
      "ru: wt doing\n",
      "de: wt doing\n",
      "kn: wt ಮಾಡುತ್ತಿರುವುದು\n",
      "hi: wt कर रही है\n",
      "te: wt చేయడం\n",
      "bn: wT করছেন\n",
      "ml: wt ചെയ്യുന്നത്\n",
      "ta: வாட் டூயிங்\n"
     ]
    }
   ],
   "source": [
    "for lang in languages:\n",
    "    translator = Translator(to_lang=lang)\n",
    "    translation = translator.translate(text)\n",
    "    print(f'{lang}: {translation}')\n"
   ]
  },
  {
   "cell_type": "code",
   "execution_count": null,
   "id": "df409e00",
   "metadata": {},
   "outputs": [],
   "source": []
  }
 ],
 "metadata": {
  "kernelspec": {
   "display_name": "nlp_env",
   "language": "python",
   "name": "nlp_env"
  },
  "language_info": {
   "codemirror_mode": {
    "name": "ipython",
    "version": 3
   },
   "file_extension": ".py",
   "mimetype": "text/x-python",
   "name": "python",
   "nbconvert_exporter": "python",
   "pygments_lexer": "ipython3",
   "version": "3.11.4"
  }
 },
 "nbformat": 4,
 "nbformat_minor": 5
}
